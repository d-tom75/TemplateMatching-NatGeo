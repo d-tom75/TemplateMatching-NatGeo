{
 "cells": [
  {
   "cell_type": "code",
   "execution_count": 1,
   "id": "d83aa1ec",
   "metadata": {},
   "outputs": [],
   "source": [
    "import librosa\n",
    "import numpy as np\n",
    "import matplotlib.pyplot as plt\n",
    "import cv2 as cv\n",
    "import os\n",
    "import csv\n",
    "import soundfile as sf\n",
    "from scipy import signal\n",
    "from datetime import datetime"
   ]
  },
  {
   "cell_type": "code",
   "execution_count": null,
   "id": "f7806a07",
   "metadata": {},
   "outputs": [],
   "source": [
    "# Directories for template audio, clips to make detections in, and output results\n",
    "# Replace __species__ with the actual file name of the template you want to use in TEMPLATE_PATH\n",
    "\n",
    "CLIPS_PATH = \"data/clips\"\n",
    "TEMPLATE_PATH = \"data/template/__species__\"\n",
    "OUTPUT_DIR = \"data/output\"\n",
    "\n",
    "# Customizable parameters for template matching:\n",
    "# Threshold for detection confidence\n",
    "# Suppression distance to avoid multiple detections in close proximity\n",
    "\n",
    "THRESHOLD = 0.6\n",
    "SUPPRESSION_DISTANCE = 50"
   ]
  },
  {
   "cell_type": "code",
   "execution_count": null,
   "id": "5d49d050",
   "metadata": {},
   "outputs": [],
   "source": [
    "os.makedirs(OUTPUT_DIR, exist_ok=True)\n",
    "timestamp = datetime.now().strftime(\"%Y%m%d_%H%M%S\")\n",
    "\n",
    "# Output file paths for results and CSV file\n",
    "\n",
    "# The CSV file will contain all matches found during the template matching process, showing the name of the template, \n",
    "# the name of the clip, the timestamp of the match, and the score of the match.\n",
    "OUTPUT_FILE = os.path.join(OUTPUT_DIR, f\"results_{timestamp}.txt\")\n",
    "CSV_OUTPUT_FILE = os.path.join(OUTPUT_DIR, f\"all_matches_{timestamp}.csv\")"
   ]
  },
  {
   "cell_type": "code",
   "execution_count": null,
   "id": "cf5c55f8",
   "metadata": {},
   "outputs": [],
   "source": [
    "# Computes mel spectrogram from an audio signal\n",
    "\n",
    "def compute_mel_spectrogram(y, sr, n_mels=128, hop_length=512):\n",
    "    S = librosa.feature.melspectrogram(y=y, sr=sr, n_mels=n_mels, hop_length=hop_length)\n",
    "    S_dB = librosa.power_to_db(S, ref=np.max)\n",
    "    return S_dB\n",
    "\n",
    "# Converts a mel spectrogram in dB to an image format suitable for use in template matching or visualization\n",
    "\n",
    "def spectrogram_to_image(S_dB):\n",
    "    img = (S_dB - S_dB.min()) / (S_dB.max() - S_dB.min())\n",
    "    img = (img * 255).astype(np.uint8)\n",
    "    return img\n",
    "\n",
    "# Finds the dominant frequency range in a mel spectrogram based on a particular energy threshold\n",
    "\n",
    "def find_dominant_frequency_range(spectrogram, energy_threshold=0.1):\n",
    "    freq_energy = np.mean(spectrogram, axis=1)\n",
    "    freq_energy = (freq_energy - freq_energy.min()) / (freq_energy.max() - freq_energy.min())\n",
    "    dominant_bins = np.where(freq_energy > energy_threshold)[0]\n",
    "    return (dominant_bins.min(), dominant_bins.max() + 1) if len(dominant_bins) else (0, spectrogram.shape[0])\n",
    "\n",
    "def filter_spectrogram_by_frequency_range(spectrogram, freq_min, freq_max):\n",
    "    return spectrogram[freq_min:freq_max, :]\n",
    "\n",
    "# Fast audio loading function that decimates or resamples audio to a target sample rate\n",
    "\n",
    "def fast_audio_load(audio_path, target_sr=22050):\n",
    "    y, original_sr = sf.read(audio_path)\n",
    "    y = y[:, 0] if y.ndim > 1 else y\n",
    "    if original_sr != target_sr:\n",
    "        decimation = original_sr // target_sr\n",
    "        try:\n",
    "            y = signal.decimate(y, decimation) if decimation > 1 and len(y) > 100 else librosa.resample(y, orig_sr=original_sr, target_sr=target_sr)\n",
    "        except ValueError:\n",
    "            y = librosa.resample(y, orig_sr=original_sr, target_sr=target_sr)\n",
    "        sr = target_sr\n",
    "    else:\n",
    "        sr = target_sr\n",
    "    return y, sr\n",
    "\n",
    "# Gets the species name from a Xeno-Canto filename\n",
    "\n",
    "def get_species_name(filename):\n",
    "    base_name = filename.replace('.mp3', '').replace('.wav', '').replace('.MP3', '').replace('.WAV', '')\n",
    "    parts = base_name.split('_')\n",
    "    return f\"{parts[0]}_{parts[1]}\" if len(parts) >= 2 else base_name"
   ]
  }
 ],
 "metadata": {
  "kernelspec": {
   "display_name": "Python 3",
   "language": "python",
   "name": "python3"
  },
  "language_info": {
   "codemirror_mode": {
    "name": "ipython",
    "version": 3
   },
   "file_extension": ".py",
   "mimetype": "text/x-python",
   "name": "python",
   "nbconvert_exporter": "python",
   "pygments_lexer": "ipython3",
   "version": "3.13.0"
  }
 },
 "nbformat": 4,
 "nbformat_minor": 5
}
