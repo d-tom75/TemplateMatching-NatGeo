{
 "cells": [
  {
   "cell_type": "code",
   "execution_count": 1,
   "id": "d83aa1ec",
   "metadata": {},
   "outputs": [],
   "source": [
    "import librosa\n",
    "import numpy as np\n",
    "import matplotlib.pyplot as plt\n",
    "import cv2 as cv\n",
    "import os\n",
    "import csv\n",
    "import soundfile as sf\n",
    "from scipy import signal\n",
    "from datetime import datetime"
   ]
  },
  {
   "cell_type": "code",
   "execution_count": 2,
   "id": "f7806a07",
   "metadata": {},
   "outputs": [],
   "source": [
    "# Directories for template audio, clips to make detections in, and output results\n",
    "# Replace __species__ with the actual file name of the template you want to use in TEMPLATE_PATH\n",
    "\n",
    "CLIPS_PATH = \"data/clips\"\n",
    "TEMPLATE_PATH = \"data/template/__species__\"\n",
    "OUTPUT_DIR = \"data/output\"\n",
    "\n",
    "# Customizable parameters for template matching:\n",
    "# Threshold for detection confidence\n",
    "# Suppression distance to avoid multiple detections in close proximity\n",
    "\n",
    "THRESHOLD = 0.6\n",
    "SUPPRESSION_DISTANCE = 50"
   ]
  },
  {
   "cell_type": "code",
   "execution_count": 3,
   "id": "5d49d050",
   "metadata": {},
   "outputs": [],
   "source": [
    "os.makedirs(OUTPUT_DIR, exist_ok=True)\n",
    "timestamp = datetime.now().strftime(\"%Y%m%d_%H%M%S\")\n",
    "\n",
    "# Output file paths for results and CSV file\n",
    "\n",
    "# The CSV file will contain all matches found during the template matching process, showing the name of the template, \n",
    "# the name of the clip, the timestamp of the match, and the score of the match.\n",
    "OUTPUT_FILE = os.path.join(OUTPUT_DIR, f\"results_{timestamp}.txt\")\n",
    "CSV_OUTPUT_FILE = os.path.join(OUTPUT_DIR, f\"all_matches_{timestamp}.csv\")"
   ]
  },
  {
   "cell_type": "code",
   "execution_count": 4,
   "id": "cf5c55f8",
   "metadata": {},
   "outputs": [],
   "source": [
    "# Computes mel spectrogram from an audio signal\n",
    "\n",
    "def compute_mel_spectrogram(y, sr, n_mels=128, hop_length=512):\n",
    "    S = librosa.feature.melspectrogram(y=y, sr=sr, n_mels=n_mels, hop_length=hop_length)\n",
    "    S_dB = librosa.power_to_db(S, ref=np.max)\n",
    "    return S_dB\n",
    "\n",
    "# Converts a mel spectrogram in dB to an image format suitable for use in template matching or visualization\n",
    "\n",
    "def spectrogram_to_image(S_dB):\n",
    "    img = (S_dB - S_dB.min()) / (S_dB.max() - S_dB.min())\n",
    "    img = (img * 255).astype(np.uint8)\n",
    "    return img\n",
    "\n",
    "# Finds the dominant frequency range in a mel spectrogram based on a particular energy threshold\n",
    "\n",
    "def find_dominant_frequency_range(spectrogram, energy_threshold=0.1):\n",
    "    freq_energy = np.mean(spectrogram, axis=1)\n",
    "    freq_energy = (freq_energy - freq_energy.min()) / (freq_energy.max() - freq_energy.min())\n",
    "    dominant_bins = np.where(freq_energy > energy_threshold)[0]\n",
    "    return (dominant_bins.min(), dominant_bins.max() + 1) if len(dominant_bins) else (0, spectrogram.shape[0])\n",
    "\n",
    "def filter_spectrogram_by_frequency_range(spectrogram, freq_min, freq_max):\n",
    "    return spectrogram[freq_min:freq_max, :]\n",
    "\n",
    "# Fast audio loading function that decimates or resamples audio to a target sample rate\n",
    "\n",
    "def fast_audio_load(audio_path, target_sr=22050):\n",
    "    y, original_sr = sf.read(audio_path)\n",
    "    y = y[:, 0] if y.ndim > 1 else y\n",
    "    if original_sr != target_sr:\n",
    "        decimation = original_sr // target_sr\n",
    "        try:\n",
    "            y = signal.decimate(y, decimation) if decimation > 1 and len(y) > 100 else librosa.resample(y, orig_sr=original_sr, target_sr=target_sr)\n",
    "        except ValueError:\n",
    "            y = librosa.resample(y, orig_sr=original_sr, target_sr=target_sr)\n",
    "        sr = target_sr\n",
    "    else:\n",
    "        sr = target_sr\n",
    "    return y, sr\n",
    "\n",
    "# Gets the species name from a Xeno-Canto filename\n",
    "\n",
    "def get_species_name(filename):\n",
    "    base_name = filename.replace('.mp3', '').replace('.wav', '').replace('.MP3', '').replace('.WAV', '')\n",
    "    parts = base_name.split('_')\n",
    "    return f\"{parts[0]}_{parts[1]}\" if len(parts) >= 2 else base_name"
   ]
  },
  {
   "cell_type": "code",
   "execution_count": 5,
   "id": "cbad02dc",
   "metadata": {},
   "outputs": [],
   "source": [
    "# Get the species name from the template path\n",
    "\n",
    "species = get_species_name(TEMPLATE_PATH)\n",
    "species_templates = {}\n",
    "if species not in species_templates:\n",
    "    species_templates[species] = TEMPLATE_PATH\n",
    "selected_templates = list(species_templates.values())"
   ]
  },
  {
   "cell_type": "code",
   "execution_count": 6,
   "id": "4ccc202a",
   "metadata": {},
   "outputs": [],
   "source": [
    "# Create a CSV file to store the results of template matching\n",
    "\n",
    "with open(CSV_OUTPUT_FILE, 'w', newline='') as csvfile:\n",
    "    csv_writer = csv.writer(csvfile)\n",
    "    csv_writer.writerow(['template_name', 'clip_name', 'timestamp', 'score'])\n",
    "\n",
    "total_matches_count = 0"
   ]
  },
  {
   "cell_type": "code",
   "execution_count": 7,
   "id": "f6594ca8",
   "metadata": {},
   "outputs": [
    {
     "name": "stdout",
     "output_type": "stream",
     "text": [
      "Processing template: data/template/__species__\n",
      "Skipping template data/template/__species__ due to error: [Errno 2] No such file or directory: 'data/template/__species__\\\\data/template/__species__'\n"
     ]
    },
    {
     "name": "stderr",
     "output_type": "stream",
     "text": [
      "C:\\Users\\super\\AppData\\Local\\Temp\\ipykernel_36340\\19620089.py:10: UserWarning: PySoundFile failed. Trying audioread instead.\n",
      "  y_template, sr_template = librosa.load(os.path.join(TEMPLATE_PATH, template_file), sr=None)\n",
      "c:\\Software\\Python\\Lib\\site-packages\\librosa\\core\\audio.py:184: FutureWarning: librosa.core.audio.__audioread_load\n",
      "\tDeprecated as of librosa version 0.10.0.\n",
      "\tIt will be removed in librosa version 1.0.\n",
      "  y, sr_native = __audioread_load(path, offset, duration, dtype)\n"
     ]
    }
   ],
   "source": [
    "# Goes through each selected template and compares it with all audio clips\n",
    "# For each template, it computes the spectrogram and filters it by frequency range\n",
    "# Then, it compares the filtered template with each audio clip's spectrogram\n",
    "# If a match is found, it records the match information\n",
    "# The match information in the CSV file includes the template name, clip name, timestamp, and score\n",
    "\n",
    "for template_file in selected_templates:\n",
    "    print(f\"Processing template: {template_file}\")\n",
    "    try:\n",
    "        y_template, sr_template = librosa.load(os.path.join(TEMPLATE_PATH, template_file), sr=None)\n",
    "        template_spec = compute_mel_spectrogram(y_template, sr_template)\n",
    "        freq_min, freq_max = find_dominant_frequency_range(template_spec)\n",
    "        template_spec_filtered = filter_spectrogram_by_frequency_range(template_spec, freq_min, freq_max)\n",
    "        template_img = spectrogram_to_image(template_spec_filtered)\n",
    "    except Exception as e:\n",
    "        print(f\"Skipping template {template_file} due to error: {e}\")\n",
    "        continue\n",
    "\n",
    "    for clip in os.listdir(CLIPS_PATH):\n",
    "        if not clip.lower().endswith('.wav'):\n",
    "            continue\n",
    "        try:\n",
    "            y_clip, sr_clip = fast_audio_load(os.path.join(CLIPS_PATH, clip))\n",
    "            clip_spec = compute_mel_spectrogram(y_clip, sr_clip)\n",
    "            clip_spec_filtered = filter_spectrogram_by_frequency_range(clip_spec, freq_min, freq_max)\n",
    "            clip_img = spectrogram_to_image(clip_spec_filtered)\n",
    "            res = cv.matchTemplate(clip_img, template_img, cv.TM_CCOEFF_NORMED)\n",
    "            locations = np.where(res >= THRESHOLD)\n",
    "            matches = sorted([(pt[1], pt[0], res[pt[1], pt[0]]) for pt in zip(*locations[::-1])], key=lambda x: x[2], reverse=True)\n",
    "        except Exception as e:\n",
    "            print(f\"Skipping clip {clip} due to error: {e}\")\n",
    "            continue\n",
    "\n",
    "        seconds_per_col = 512 / sr_clip\n",
    "        with open(CSV_OUTPUT_FILE, 'a', newline='') as csvfile:\n",
    "            csv_writer = csv.writer(csvfile)\n",
    "            for y, x, score in matches:\n",
    "                csv_writer.writerow([template_file.replace('.mp3','').replace('.wav',''), clip, x * seconds_per_col, score])\n",
    "        total_matches_count += len(matches)"
   ]
  },
  {
   "cell_type": "code",
   "execution_count": 8,
   "id": "dda44771",
   "metadata": {},
   "outputs": [
    {
     "name": "stdout",
     "output_type": "stream",
     "text": [
      "Total matches: 0\n",
      "CSV output saved to: data/output\\all_matches_20250812_102302.csv\n"
     ]
    }
   ],
   "source": [
    "# Prints out the total number of matches found and the directory of the CSV file with the information about the matches found\n",
    "\n",
    "print(f\"Total matches: {total_matches_count}\")\n",
    "print(f\"CSV output saved to: {CSV_OUTPUT_FILE}\")"
   ]
  }
 ],
 "metadata": {
  "kernelspec": {
   "display_name": "Python 3",
   "language": "python",
   "name": "python3"
  },
  "language_info": {
   "codemirror_mode": {
    "name": "ipython",
    "version": 3
   },
   "file_extension": ".py",
   "mimetype": "text/x-python",
   "name": "python",
   "nbconvert_exporter": "python",
   "pygments_lexer": "ipython3",
   "version": "3.13.0"
  }
 },
 "nbformat": 4,
 "nbformat_minor": 5
}
